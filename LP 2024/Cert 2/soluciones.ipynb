{
 "cells": [
  {
   "cell_type": "code",
   "execution_count": 3,
   "id": "aef7a79f-1243-4b9a-96ad-e308afbcf584",
   "metadata": {},
   "outputs": [],
   "source": [
    "### Problema 1"
   ]
  },
  {
   "cell_type": "code",
   "execution_count": null,
   "id": "f38834d9-c4e6-4ec3-a849-b8b8ce8cdf82",
   "metadata": {},
   "outputs": [],
   "source": [
    "### Problema 2"
   ]
  },
  {
   "cell_type": "code",
   "execution_count": null,
   "id": "099b16de-5825-4766-a893-fabc06a53832",
   "metadata": {},
   "outputs": [],
   "source": [
    "### Problema 3"
   ]
  }
 ],
 "metadata": {
  "kernelspec": {
   "display_name": "Python 3 (ipykernel)",
   "language": "python",
   "name": "python3"
  },
  "language_info": {
   "codemirror_mode": {
    "name": "ipython",
    "version": 3
   },
   "file_extension": ".py",
   "mimetype": "text/x-python",
   "name": "python",
   "nbconvert_exporter": "python",
   "pygments_lexer": "ipython3",
   "version": "3.12.0"
  }
 },
 "nbformat": 4,
 "nbformat_minor": 5
}
